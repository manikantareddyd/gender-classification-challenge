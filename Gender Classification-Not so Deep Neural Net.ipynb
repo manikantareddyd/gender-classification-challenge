{
 "cells": [
  {
   "cell_type": "code",
   "execution_count": 1,
   "metadata": {},
   "outputs": [
    {
     "name": "stderr",
     "output_type": "stream",
     "text": [
      "Using TensorFlow backend.\n"
     ]
    }
   ],
   "source": [
    "%matplotlib inline\n",
    "import pandas\n",
    "import numpy as np\n",
    "import matplotlib.pyplot as plt\n",
    "from mpl_toolkits.mplot3d import Axes3D\n",
    "from keras.utils.np_utils import to_categorical\n",
    "import time\n",
    "from sklearn.preprocessing import normalize\n",
    "from sklearn.model_selection import train_test_split\n",
    "from keras.layers import Input, Dropout, Dense\n",
    "from keras.models import Model\n",
    "from sklearn.metrics import roc_curve\n",
    "from sklearn.metrics import roc_auc_score"
   ]
  },
  {
   "cell_type": "markdown",
   "metadata": {},
   "source": [
    "Lets load the data"
   ]
  },
  {
   "cell_type": "code",
   "execution_count": 2,
   "metadata": {
    "collapsed": true
   },
   "outputs": [],
   "source": [
    "train_data = pandas.read_csv(\"Train.csv\").sample(frac=1, random_state=int(time.time())).reset_index(drop=True)\n",
    "valid_data = pandas.read_csv(\"Validate.csv\").sample(frac=1, random_state=int(time.time())).reset_index(drop=True)\n",
    "test_data = pandas.read_csv(\"TestData.csv\")"
   ]
  },
  {
   "cell_type": "code",
   "execution_count": 3,
   "metadata": {},
   "outputs": [
    {
     "data": {
      "text/plain": [
       "array(['V130', 'V131', 'V132', 'V133', 'V134', 'V135', 'V136', 'V137',\n",
       "       'V138', 'V139', 'V140', 'V141', 'V142', 'V143', 'V144', 'V145',\n",
       "       'V146', 'V147', 'V148', 'V149', 'V150', 'V151', 'V152', 'V153',\n",
       "       'V154', 'V155', 'V156', 'V157', 'V158', 'V159', 'V160', 'V161',\n",
       "       'V162', 'V163', 'V164', 'V165', 'V166', 'V167', 'V168', 'V169',\n",
       "       'V170', 'V171', 'V172', 'V173', 'V174', 'V175', 'V176', 'V177',\n",
       "       'V178', 'V179', 'V180', 'V181', 'V182', 'V183', 'V184', 'V185',\n",
       "       'V186', 'V187', 'V188', 'V189', 'V190', 'V191', 'V192', 'V193',\n",
       "       'V194', 'V195', 'V196', 'V197', 'V198', 'V199', 'V200', 'V201',\n",
       "       'V202', 'V203', 'V204', 'V205', 'V206', 'V207', 'V208', 'V209',\n",
       "       'V210', 'V211', 'V212', 'V213', 'V214', 'V215', 'V216', 'V217',\n",
       "       'V218', 'V219', 'V220', 'V221', 'V222', 'V223', 'V224', 'V225',\n",
       "       'V226', 'V227', 'V228', 'V229', 'V230', 'V231', 'V232', 'V233',\n",
       "       'V234', 'V235', 'V236', 'V237', 'V238', 'V239', 'V240', 'V241',\n",
       "       'V242', 'V243', 'V244', 'V245', 'V246', 'V247', 'V248', 'V249',\n",
       "       'V250', 'V251', 'V252', 'V253', 'V254', 'V255', 'V256', 'V257'], \n",
       "      dtype='<U4')"
      ]
     },
     "execution_count": 3,
     "metadata": {},
     "output_type": "execute_result"
    }
   ],
   "source": [
    "columns = np.array(train_data.columns.values.tolist()[1:-1])\n",
    "tau=128\n",
    "tau2=len(columns)\n",
    "columns[tau:tau2]"
   ]
  },
  {
   "cell_type": "code",
   "execution_count": 4,
   "metadata": {},
   "outputs": [
    {
     "name": "stdout",
     "output_type": "stream",
     "text": [
      "Training Data\t (23491, 128) (23491,)\n",
      "Validation Data\t (4567, 128) (4567,)\n",
      "Test Data\t (8192, 128)\n"
     ]
    }
   ],
   "source": [
    "y_train_data = train_data[\"Label\"].values\n",
    "X_train_data = normalize(np.array(train_data[columns[tau:tau2]].copy()))\n",
    "print(\"Training Data\\t\", X_train_data.shape, y_train_data.shape)\n",
    "\n",
    "y_valid_data = valid_data[\"Label\"].values\n",
    "X_valid_data = normalize(np.array(valid_data[columns[tau:tau2]].copy()))\n",
    "print(\"Validation Data\\t\", X_valid_data.shape, y_valid_data.shape)\n",
    "\n",
    "\n",
    "X_test_data = normalize(np.array(test_data[columns[tau:tau2]].copy()))\n",
    "print(\"Test Data\\t\", X_test_data.shape)\n"
   ]
  },
  {
   "cell_type": "code",
   "execution_count": 5,
   "metadata": {},
   "outputs": [
    {
     "name": "stdout",
     "output_type": "stream",
     "text": [
      "(27777, 128) (27777,) (281, 128) (281,)\n"
     ]
    }
   ],
   "source": [
    "# X_train = X_train_data\n",
    "# y_train = y_train_data\n",
    "# X_test  = X_valid_data\n",
    "# y_test  = y_valid_data\n",
    "ration = len(y_valid_data)/(len(y_valid_data)+len(y_train_data))\n",
    "ration = 0.01\n",
    "X_train, X_test, y_train, y_test = train_test_split(\n",
    "    np.concatenate((X_train_data, X_valid_data), axis=0), \n",
    "    np.concatenate((y_train_data, y_valid_data), axis=0), \n",
    "    test_size=ration, \n",
    "    random_state=int(time.time())\n",
    "    )\n",
    "print(X_train.shape, y_train.shape, X_test.shape, y_test.shape)\n"
   ]
  },
  {
   "cell_type": "code",
   "execution_count": 6,
   "metadata": {},
   "outputs": [
    {
     "name": "stdout",
     "output_type": "stream",
     "text": [
      "Perceptron\t 0.900355871886\n"
     ]
    }
   ],
   "source": [
    "from sklearn.linear_model import Perceptron\n",
    "\n",
    "p = Perceptron()\n",
    "p.fit(X_train, y_train)\n",
    "print(\"Perceptron\\t\", p.score(X_test,y_test))"
   ]
  },
  {
   "cell_type": "code",
   "execution_count": 7,
   "metadata": {
    "scrolled": true
   },
   "outputs": [
    {
     "name": "stdout",
     "output_type": "stream",
     "text": [
      "_________________________________________________________________\n",
      "Layer (type)                 Output Shape              Param #   \n",
      "=================================================================\n",
      "Input (InputLayer)           (None, 128)               0         \n",
      "_________________________________________________________________\n",
      "Hidden_Layer (Dense)         (None, 8192)              1056768   \n",
      "_________________________________________________________________\n",
      "Dropout (Dropout)            (None, 8192)              0         \n",
      "_________________________________________________________________\n",
      "Output (Dense)               (None, 2)                 16386     \n",
      "=================================================================\n",
      "Total params: 1,073,154\n",
      "Trainable params: 1,073,154\n",
      "Non-trainable params: 0\n",
      "_________________________________________________________________\n",
      "None\n"
     ]
    }
   ],
   "source": [
    "inputs = Input(shape=X_train[0].shape, dtype='float32', name='Input')\n",
    "x = inputs\n",
    "x = Dense(8192, activation='relu', kernel_initializer='glorot_uniform', name=\"Hidden_Layer\")(x)\n",
    "x = Dropout(0.5,  seed=42, name=\"Dropout\")(x)\n",
    "predictions = Dense(2, activation='sigmoid', name=\"Output\")(x)\n",
    "model = Model(\n",
    "    inputs=inputs, \n",
    "    outputs=predictions\n",
    ")\n",
    "\n",
    "model.compile(\n",
    "    optimizer='adam',\n",
    "    loss='binary_crossentropy',\n",
    "    metrics=['accuracy']\n",
    ")\n",
    "\n",
    "print(model.summary())"
   ]
  },
  {
   "cell_type": "code",
   "execution_count": 16,
   "metadata": {},
   "outputs": [
    {
     "name": "stdout",
     "output_type": "stream",
     "text": [
      "Train on 24999 samples, validate on 2778 samples\n",
      "Epoch 1/10\n",
      "24999/24999 [==============================] - 12s - loss: 0.1688 - acc: 0.9440 - val_loss: 0.1710 - val_acc: 0.9401\n",
      "Epoch 2/10\n",
      "24999/24999 [==============================] - 12s - loss: 0.1678 - acc: 0.9447 - val_loss: 0.1718 - val_acc: 0.9402\n",
      "Epoch 3/10\n",
      "24999/24999 [==============================] - 12s - loss: 0.1666 - acc: 0.9449 - val_loss: 0.1706 - val_acc: 0.9401\n",
      "Epoch 4/10\n",
      "24999/24999 [==============================] - 12s - loss: 0.1653 - acc: 0.9456 - val_loss: 0.1700 - val_acc: 0.9415\n",
      "Epoch 5/10\n",
      "24999/24999 [==============================] - 12s - loss: 0.1643 - acc: 0.9456 - val_loss: 0.1695 - val_acc: 0.9411\n",
      "Epoch 6/10\n",
      "24999/24999 [==============================] - 13s - loss: 0.1635 - acc: 0.9458 - val_loss: 0.1689 - val_acc: 0.9408\n",
      "Epoch 7/10\n",
      "24999/24999 [==============================] - 13s - loss: 0.1623 - acc: 0.9464 - val_loss: 0.1683 - val_acc: 0.9417\n",
      "Epoch 8/10\n",
      "24999/24999 [==============================] - 12s - loss: 0.1622 - acc: 0.9466 - val_loss: 0.1692 - val_acc: 0.9417\n",
      "Epoch 9/10\n",
      "24999/24999 [==============================] - 11s - loss: 0.1607 - acc: 0.9473 - val_loss: 0.1685 - val_acc: 0.9419\n",
      "Epoch 10/10\n",
      "24999/24999 [==============================] - 12s - loss: 0.1597 - acc: 0.9468 - val_loss: 0.1674 - val_acc: 0.9426\n"
     ]
    },
    {
     "data": {
      "text/plain": [
       "<keras.callbacks.History at 0x21280fe4588>"
      ]
     },
     "execution_count": 16,
     "metadata": {},
     "output_type": "execute_result"
    }
   ],
   "source": [
    "model.fit(\n",
    "    X_train, \n",
    "    to_categorical(y_train), \n",
    "    epochs=10, \n",
    "    batch_size=2048,\n",
    "    validation_split=0.1\n",
    ")"
   ]
  },
  {
   "cell_type": "code",
   "execution_count": 24,
   "metadata": {},
   "outputs": [
    {
     "data": {
      "text/plain": [
       "array([[  2.83197337e-03,   9.97076392e-01],\n",
       "       [  4.31852564e-02,   9.56965804e-01],\n",
       "       [  9.56580162e-01,   4.40360419e-02],\n",
       "       ..., \n",
       "       [  1.08522561e-03,   9.98829067e-01],\n",
       "       [  4.71188978e-04,   9.99533176e-01],\n",
       "       [  9.31825697e-01,   6.88423663e-02]], dtype=float32)"
      ]
     },
     "execution_count": 24,
     "metadata": {},
     "output_type": "execute_result"
    }
   ],
   "source": [
    "prediction = model.predict(X_valid_data)\n",
    "prediction"
   ]
  },
  {
   "cell_type": "code",
   "execution_count": 25,
   "metadata": {},
   "outputs": [
    {
     "data": {
      "text/plain": [
       "array([1, 1, 0, ..., 1, 1, 0])"
      ]
     },
     "execution_count": 25,
     "metadata": {},
     "output_type": "execute_result"
    }
   ],
   "source": [
    "binary_pred = []\n",
    "for i in range(0, len(prediction)):\n",
    "    if(prediction[i][0]<prediction[i][1]):\n",
    "        binary_pred.append(1)\n",
    "    else:\n",
    "        binary_pred.append(0)\n",
    "\n",
    "np.array(binary_pred)"
   ]
  },
  {
   "cell_type": "code",
   "execution_count": 26,
   "metadata": {},
   "outputs": [
    {
     "name": "stdout",
     "output_type": "stream",
     "text": [
      "Accuracy\t 0.9244580687541055\n"
     ]
    }
   ],
   "source": [
    "score = 0\n",
    "y_test = y_valid_data\n",
    "for i in range(len(binary_pred)):\n",
    "    if(y_test[i]==binary_pred[i]):\n",
    "        score += 1\n",
    "        \n",
    "print(\"Accuracy\\t\", score*1.0/len(binary_pred))  "
   ]
  },
  {
   "cell_type": "code",
   "execution_count": 27,
   "metadata": {},
   "outputs": [
    {
     "data": {
      "image/png": "[encoded data removed]",
      "text/plain": [
       "<matplotlib.figure.Figure at 0x212810ce5c0>"
      ]
     },
     "metadata": {},
     "output_type": "display_data"
    },
    {
     "name": "stdout",
     "output_type": "stream",
     "text": [
      "Area Under Curve\t 0.972128998572\n"
     ]
    }
   ],
   "source": [
    "y_true = y_test\n",
    "y_pred = np.array([prediction[i][1] for i in range(len(prediction))])\n",
    "\n",
    "fpr, tpr, thres = roc_curve(y_true, y_pred)\n",
    "auc = roc_auc_score(y_true, y_pred)\n",
    "plt.figure()\n",
    "plt.plot(fpr, tpr, color='darkorange', linestyle='-', label='DeepNet ROC (area=%0.4f)' % auc)\n",
    "plt.plot([0,1],[0,1], color='blue', linestyle='--')\n",
    "plt.xlim([0,1.05])\n",
    "plt.ylim([0,1.05])\n",
    "plt.xlabel('False Positive Rate')\n",
    "plt.ylabel('True Positive Rate')\n",
    "plt.title('Receiver operating characteristic')\n",
    "plt.legend(loc=\"lower right\")\n",
    "plt.show()\n",
    "\n",
    "print('Area Under Curve\\t', auc )\n"
   ]
  },
  {
   "cell_type": "code",
   "execution_count": 28,
   "metadata": {
    "collapsed": true
   },
   "outputs": [],
   "source": [
    "test_prediction = model.predict(X_test_data)\n",
    "y_test_pred = np.array([test_prediction[i][1] for i in range(len(test_prediction))])"
   ]
  },
  {
   "cell_type": "code",
   "execution_count": 29,
   "metadata": {},
   "outputs": [
    {
     "data": {
      "text/plain": [
       "array([ 0.1012165 ,  0.98851764,  0.98562467, ...,  0.99510264,\n",
       "        0.9752897 ,  0.98197091], dtype=float32)"
      ]
     },
     "execution_count": 29,
     "metadata": {},
     "output_type": "execute_result"
    }
   ],
   "source": [
    "y_test_pred\n"
   ]
  },
  {
   "cell_type": "code",
   "execution_count": 30,
   "metadata": {},
   "outputs": [],
   "source": [
    "with open('Stuxnet_result.csv','w') as fp:\n",
    "    fp.write(\"ID,Score\\n\")\n",
    "    ids = test_data[\"Id\"].tolist()\n",
    "    for i in range(len(y_test_pred)):\n",
    "        fp.write(ids[i] + \",\" + str(y_test_pred[i]) + '\\n')\n"
   ]
  }
 ],
 "metadata": {
  "kernelspec": {
   "display_name": "Python 3",
   "language": "python",
   "name": "python3"
  },
  "language_info": {
   "codemirror_mode": {
    "name": "ipython",
    "version": 3
   },
   "file_extension": ".py",
   "mimetype": "text/x-python",
   "name": "python",
   "nbconvert_exporter": "python",
   "pygments_lexer": "ipython3",
   "version": "3.6.1"
  }
 },
 "nbformat": 4,
 "nbformat_minor": 2
}
