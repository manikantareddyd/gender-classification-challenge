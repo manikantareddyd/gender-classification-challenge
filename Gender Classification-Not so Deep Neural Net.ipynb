{
 "cells": [
  {
   "cell_type": "code",
   "execution_count": 1,
   "metadata": {},
   "outputs": [
    {
     "name": "stderr",
     "output_type": "stream",
     "text": [
      "Using TensorFlow backend.\n"
     ]
    }
   ],
   "source": [
    "%matplotlib inline\n",
    "import pandas\n",
    "import numpy as np\n",
    "import matplotlib.pyplot as plt\n",
    "from mpl_toolkits.mplot3d import Axes3D\n",
    "from keras.utils.np_utils import to_categorical\n",
    "import time\n",
    "from sklearn.preprocessing import normalize\n",
    "from sklearn.model_selection import train_test_split\n",
    "from keras.layers import Input, Dropout, Dense\n",
    "from keras.models import Model\n",
    "from sklearn.metrics import roc_curve\n",
    "from sklearn.metrics import roc_auc_score"
   ]
  },
  {
   "cell_type": "markdown",
   "metadata": {},
   "source": [
    "Lets load the data"
   ]
  },
  {
   "cell_type": "code",
   "execution_count": 2,
   "metadata": {
    "collapsed": true
   },
   "outputs": [],
   "source": [
    "train_data = pandas.read_csv(\"Train.csv\").sample(frac=1, random_state=int(time.time())).reset_index(drop=True)\n",
    "valid_data = pandas.read_csv(\"Validate.csv\").sample(frac=1, random_state=int(time.time())).reset_index(drop=True)"
   ]
  },
  {
   "cell_type": "code",
   "execution_count": 16,
   "metadata": {},
   "outputs": [
    {
     "data": {
      "text/plain": [
       "array(['V130', 'V131', 'V132', 'V133', 'V134', 'V135', 'V136', 'V137',\n",
       "       'V138', 'V139', 'V140', 'V141', 'V142', 'V143', 'V144', 'V145',\n",
       "       'V146', 'V147', 'V148', 'V149', 'V150', 'V151', 'V152', 'V153',\n",
       "       'V154', 'V155', 'V156', 'V157', 'V158', 'V159', 'V160', 'V161',\n",
       "       'V162', 'V163', 'V164', 'V165', 'V166', 'V167', 'V168', 'V169',\n",
       "       'V170', 'V171', 'V172', 'V173', 'V174', 'V175', 'V176', 'V177',\n",
       "       'V178', 'V179', 'V180', 'V181', 'V182', 'V183', 'V184', 'V185',\n",
       "       'V186', 'V187', 'V188', 'V189', 'V190', 'V191', 'V192', 'V193',\n",
       "       'V194', 'V195', 'V196', 'V197', 'V198', 'V199', 'V200', 'V201',\n",
       "       'V202', 'V203', 'V204', 'V205', 'V206', 'V207', 'V208', 'V209',\n",
       "       'V210', 'V211', 'V212', 'V213', 'V214', 'V215', 'V216', 'V217',\n",
       "       'V218', 'V219', 'V220', 'V221', 'V222', 'V223', 'V224', 'V225',\n",
       "       'V226', 'V227', 'V228', 'V229', 'V230', 'V231', 'V232', 'V233',\n",
       "       'V234', 'V235', 'V236', 'V237', 'V238', 'V239', 'V240', 'V241',\n",
       "       'V242', 'V243', 'V244', 'V245', 'V246', 'V247', 'V248', 'V249',\n",
       "       'V250', 'V251', 'V252', 'V253', 'V254', 'V255', 'V256', 'V257'], \n",
       "      dtype='<U4')"
      ]
     },
     "execution_count": 16,
     "metadata": {},
     "output_type": "execute_result"
    }
   ],
   "source": [
    "columns = np.array(train_data.columns.values.tolist()[1:-1])\n",
    "tau=128\n",
    "tau2=len(columns)\n",
    "columns[tau:tau2]"
   ]
  },
  {
   "cell_type": "code",
   "execution_count": 4,
   "metadata": {},
   "outputs": [
    {
     "name": "stdout",
     "output_type": "stream",
     "text": [
      "Training Data\t (23491, 128) (23491,)\n",
      "Validation Data\t (4567, 128) (4567,)\n"
     ]
    }
   ],
   "source": [
    "y_train_data = train_data[\"Label\"].values\n",
    "X_train_data = normalize(np.array(train_data[columns[tau:tau2]].copy()))\n",
    "print(\"Training Data\\t\", X_train_data.shape, y_train_data.shape)\n",
    "\n",
    "y_valid_data = valid_data[\"Label\"].values\n",
    "X_valid_data = normalize(np.array(valid_data[columns[tau:tau2]].copy()))\n",
    "print(\"Validation Data\\t\", X_valid_data.shape, y_valid_data.shape)\n"
   ]
  },
  {
   "cell_type": "code",
   "execution_count": 5,
   "metadata": {},
   "outputs": [
    {
     "name": "stdout",
     "output_type": "stream",
     "text": [
      "(23491, 128) (23491,) (4567, 128) (4567,)\n"
     ]
    }
   ],
   "source": [
    "X_train = X_train_data\n",
    "y_train = y_train_data\n",
    "X_test  = X_valid_data\n",
    "y_test  = y_valid_data\n",
    "# X_train, X_test, y_train, y_test = train_test_split(\n",
    "#     np.concatenate((X_train_data, X_valid_data), axis=0), \n",
    "#     np.concatenate((y_train_data, y_valid_data), axis=0), \n",
    "#     test_size=0.1, \n",
    "#     random_state=int(time.time())\n",
    "#     )\n",
    "print(X_train.shape, y_train.shape, X_test.shape, y_test.shape)\n"
   ]
  },
  {
   "cell_type": "code",
   "execution_count": 6,
   "metadata": {},
   "outputs": [
    {
     "name": "stdout",
     "output_type": "stream",
     "text": [
      "Perceptron\t 0.905189402233\n"
     ]
    }
   ],
   "source": [
    "from sklearn.linear_model import Perceptron\n",
    "\n",
    "p = Perceptron()\n",
    "p.fit(X_train, y_train)\n",
    "print(\"Perceptron\\t\", p.score(X_test,y_test))"
   ]
  },
  {
   "cell_type": "code",
   "execution_count": 7,
   "metadata": {
    "scrolled": true
   },
   "outputs": [
    {
     "name": "stdout",
     "output_type": "stream",
     "text": [
      "_________________________________________________________________\n",
      "Layer (type)                 Output Shape              Param #   \n",
      "=================================================================\n",
      "Input (InputLayer)           (None, 128)               0         \n",
      "_________________________________________________________________\n",
      "Hidden_Layer (Dense)         (None, 8192)              1056768   \n",
      "_________________________________________________________________\n",
      "Dropout (Dropout)            (None, 8192)              0         \n",
      "_________________________________________________________________\n",
      "Output (Dense)               (None, 2)                 16386     \n",
      "=================================================================\n",
      "Total params: 1,073,154\n",
      "Trainable params: 1,073,154\n",
      "Non-trainable params: 0\n",
      "_________________________________________________________________\n",
      "None\n"
     ]
    }
   ],
   "source": [
    "inputs = Input(shape=X_train[0].shape, dtype='float32', name='Input')\n",
    "x = inputs\n",
    "x = Dense(8192, activation='relu', kernel_initializer='glorot_uniform', name=\"Hidden_Layer\")(x)\n",
    "x = Dropout(0.25,  seed=int(time.time()), name=\"Dropout\")(x)\n",
    "predictions = Dense(2, activation='sigmoid', name=\"Output\")(x)\n",
    "model = Model(\n",
    "    inputs=inputs, \n",
    "    outputs=predictions\n",
    ")\n",
    "\n",
    "model.compile(\n",
    "    optimizer='adam',\n",
    "    loss='binary_crossentropy',\n",
    "    metrics=['accuracy']\n",
    ")\n",
    "\n",
    "print(model.summary())"
   ]
  },
  {
   "cell_type": "code",
   "execution_count": 8,
   "metadata": {},
   "outputs": [
    {
     "name": "stdout",
     "output_type": "stream",
     "text": [
      "Train on 18792 samples, validate on 4699 samples\n",
      "Epoch 1/5\n",
      "18792/18792 [==============================] - 11s - loss: 0.3229 - acc: 0.8927 - val_loss: 0.1977 - val_acc: 0.9400\n",
      "Epoch 2/5\n",
      "18792/18792 [==============================] - 11s - loss: 0.1823 - acc: 0.9436 - val_loss: 0.1768 - val_acc: 0.9403\n",
      "Epoch 3/5\n",
      "18792/18792 [==============================] - 11s - loss: 0.1670 - acc: 0.9457 - val_loss: 0.1718 - val_acc: 0.9416\n",
      "Epoch 4/5\n",
      "18792/18792 [==============================] - 11s - loss: 0.1628 - acc: 0.9466 - val_loss: 0.1696 - val_acc: 0.9414\n",
      "Epoch 5/5\n",
      "18792/18792 [==============================] - 11s - loss: 0.1601 - acc: 0.9474 - val_loss: 0.1675 - val_acc: 0.9434\n"
     ]
    },
    {
     "data": {
      "text/plain": [
       "<keras.callbacks.History at 0x22c3d23de10>"
      ]
     },
     "execution_count": 8,
     "metadata": {},
     "output_type": "execute_result"
    }
   ],
   "source": [
    "model.fit(\n",
    "    X_train, \n",
    "    to_categorical(y_train), \n",
    "    epochs=5, \n",
    "    batch_size=1024,\n",
    "    validation_split=0.2\n",
    ")"
   ]
  },
  {
   "cell_type": "code",
   "execution_count": 9,
   "metadata": {},
   "outputs": [
    {
     "data": {
      "text/plain": [
       "array([[ 0.03049295,  0.96993601],\n",
       "       [ 0.03744766,  0.96319687],\n",
       "       [ 0.9264155 ,  0.07421263],\n",
       "       ..., \n",
       "       [ 0.93634832,  0.06394942],\n",
       "       [ 0.0447648 ,  0.95536715],\n",
       "       [ 0.12853576,  0.86802346]], dtype=float32)"
      ]
     },
     "execution_count": 9,
     "metadata": {},
     "output_type": "execute_result"
    }
   ],
   "source": [
    "prediction = model.predict(X_test)\n",
    "prediction"
   ]
  },
  {
   "cell_type": "code",
   "execution_count": 10,
   "metadata": {},
   "outputs": [
    {
     "data": {
      "text/plain": [
       "array([1, 1, 0, ..., 0, 1, 1])"
      ]
     },
     "execution_count": 10,
     "metadata": {},
     "output_type": "execute_result"
    }
   ],
   "source": [
    "binary_pred = []\n",
    "for i in range(0, len(prediction)):\n",
    "    if(prediction[i][0]<prediction[i][1]):\n",
    "        binary_pred.append(1)\n",
    "    else:\n",
    "        binary_pred.append(0)\n",
    "\n",
    "np.array(binary_pred)"
   ]
  },
  {
   "cell_type": "code",
   "execution_count": 11,
   "metadata": {},
   "outputs": [
    {
     "name": "stdout",
     "output_type": "stream",
     "text": [
      "Accuracy\t 0.9154806218524195\n"
     ]
    }
   ],
   "source": [
    "score = 0\n",
    "for i in range(len(binary_pred)):\n",
    "    if(y_test[i]==binary_pred[i]):\n",
    "        score += 1\n",
    "        \n",
    "print(\"Accuracy\\t\", score*1.0/len(binary_pred))  "
   ]
  },
  {
   "cell_type": "code",
   "execution_count": 12,
   "metadata": {},
   "outputs": [
    {
     "data": {
      "image/png": "[encoded data removed]",
      "text/plain": [
       "<matplotlib.figure.Figure at 0x22c3d5c26d8>"
      ]
     },
     "metadata": {},
     "output_type": "display_data"
    },
    {
     "name": "stdout",
     "output_type": "stream",
     "text": [
      "Area Under Curve\t 0.964243386168\n"
     ]
    }
   ],
   "source": [
    "y_true = y_test\n",
    "y_pred = np.array([prediction[i][1] for i in range(len(prediction))])\n",
    "\n",
    "fpr, tpr, thres = roc_curve(y_true, y_pred)\n",
    "auc = roc_auc_score(y_true, y_pred)\n",
    "plt.figure()\n",
    "plt.plot(fpr, tpr, color='darkorange', linestyle='-', label='DeepNet ROC (area=%0.4f)' % auc)\n",
    "plt.plot([0,1],[0,1], color='blue', linestyle='--')\n",
    "plt.xlim([0,1.05])\n",
    "plt.ylim([0,1.05])\n",
    "plt.xlabel('False Positive Rate')\n",
    "plt.ylabel('True Positive Rate')\n",
    "plt.title('Receiver operating characteristic')\n",
    "plt.legend(loc=\"lower right\")\n",
    "plt.show()\n",
    "\n",
    "print('Area Under Curve\\t', auc )\n"
   ]
  }
 ],
 "metadata": {
  "kernelspec": {
   "display_name": "Python 3",
   "language": "python",
   "name": "python3"
  },
  "language_info": {
   "codemirror_mode": {
    "name": "ipython",
    "version": 3
   },
   "file_extension": ".py",
   "mimetype": "text/x-python",
   "name": "python",
   "nbconvert_exporter": "python",
   "pygments_lexer": "ipython3",
   "version": "3.6.1"
  }
 },
 "nbformat": 4,
 "nbformat_minor": 2
}
